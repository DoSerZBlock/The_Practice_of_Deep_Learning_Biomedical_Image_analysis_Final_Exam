{
    "cells": [
        {
            "cell_type": "code",
            "execution_count": null,
            "id": "98a914f2",
            "metadata": {},
            "outputs": [],
            "source": [
                "from tensorflow.keras.applications import (\n",
                "    ResNet50, ResNet101,\n",
                "    EfficientNetB0,\n",
                "    DenseNet121,\n",
                "    MobileNetV2,\n",
                ")\n",
                "from tensorflow.keras.applications.resnet50 import preprocess_input as resnet50_preprocess\n",
                "from tensorflow.keras.applications.resnet import preprocess_input as resnet101_preprocess\n",
                "from tensorflow.keras.applications.efficientnet import preprocess_input as efficientnet_preprocess\n",
                "from tensorflow.keras.applications.densenet import preprocess_input as densenet_preprocess\n",
                "from tensorflow.keras.applications.mobilenet_v2 import preprocess_input as mobilenetv2_preprocess\n",
                "\n",
                "import tensorflow as tf\n",
                "from keras import layers\n",
                "from sklearn.model_selection import train_test_split\n",
                "from sklearn.utils import class_weight\n",
                "import numpy as np\n",
                "from pathlib import Path"
            ]
        },
        {
            "cell_type": "code",
            "execution_count": null,
            "id": "4d0b34d6",
            "metadata": {
                "colab": {
                    "base_uri": "https://localhost:8080/"
                },
                "executionInfo": {
                    "elapsed": 16592,
                    "status": "ok",
                    "timestamp": 1749049758690,
                    "user": {
                        "displayName": "毒蛇DoSer",
                        "userId": "08540475497554539948"
                    },
                    "user_tz": -480
                },
                "id": "4d0b34d6",
                "outputId": "da11e78c-987a-4121-c91f-3d801621f47a"
            },
            "outputs": [
                {
                    "name": "stdout",
                    "output_type": "stream",
                    "text": [
                        "Path to dataset files: C:\\Users\\ihvgj\\.cache\\kagglehub\\datasets\\mrmaazoo\\breast-ultrasound-classification\\versions\\1\n"
                    ]
                }
            ],
            "source": [
                "import kagglehub\n",
                "\n",
                "# Download latest version\n",
                "path = kagglehub.dataset_download(\n",
                "    \"mrmaazoo/breast-ultrasound-classification\",\n",
                ")\n",
                "\n",
                "print(\"Path to dataset files:\", path)\n",
                "\n"
            ]
        },
        {
            "cell_type": "code",
            "execution_count": null,
            "id": "b864b333",
            "metadata": {},
            "outputs": [],
            "source": [
                "def get_model_and_preprocess(name: str):\n",
                "    name = name.lower()\n",
                "    if name == \"resnet50\":\n",
                "        return ResNet50, resnet50_preprocess\n",
                "    elif name == \"resnet\":\n",
                "        return ResNet101, resnet101_preprocess\n",
                "    elif name == \"efficientnetb0\":\n",
                "        return EfficientNetB0, efficientnet_preprocess\n",
                "    elif name == \"densenet121\":\n",
                "        return DenseNet121, densenet_preprocess\n",
                "    elif name == \"mobilenetv2\":\n",
                "        return MobileNetV2, mobilenetv2_preprocess\n",
                "    else:\n",
                "        raise ValueError(f\"Unsupported model name: {name}\")\n",
                "\n",
                "# 範例：指定要用的模型\n",
                "MODEL_NAME = \"efficientnetb0\"\n",
                "ModelClass, preprocess_input = get_model_and_preprocess(MODEL_NAME)\n"
            ]
        },
        {
            "cell_type": "code",
            "execution_count": null,
            "id": "b4032639",
            "metadata": {
                "executionInfo": {
                    "elapsed": 14,
                    "status": "ok",
                    "timestamp": 1749049758708,
                    "user": {
                        "displayName": "毒蛇DoSer",
                        "userId": "08540475497554539948"
                    },
                    "user_tz": -480
                },
                "id": "b4032639"
            },
            "outputs": [],
            "source": [
                "import matplotlib.pyplot as plt\n",
                "\n",
                "# ========== 7. 視覺化 ==========\n",
                "def plot_history(history, title_suffix=\"\"):\n",
                "    plt.figure()\n",
                "    plt.plot(history.history[\"loss\"], label=\"train\")\n",
                "    plt.plot(history.history[\"val_loss\"], label=\"val\")\n",
                "    plt.xlabel(\"Epoch\")\n",
                "    plt.ylabel(\"Loss\")\n",
                "    plt.title(f\"Loss {title_suffix}\")\n",
                "    plt.legend()\n",
                "    plt.show()\n",
                "\n",
                "    plt.figure()\n",
                "    plt.plot(history.history[\"accuracy\"], label=\"train\")\n",
                "    plt.plot(history.history[\"val_accuracy\"], label=\"val\")\n",
                "    plt.xlabel(\"Epoch\")\n",
                "    plt.ylabel(\"Accuracy\")\n",
                "    plt.title(f\"Accuracy {title_suffix}\")\n",
                "    plt.legend()\n",
                "    plt.show()"
            ]
        },
        {
            "cell_type": "code",
            "execution_count": null,
            "id": "1d37cd01",
            "metadata": {
                "executionInfo": {
                    "elapsed": 8249,
                    "status": "ok",
                    "timestamp": 1749049766960,
                    "user": {
                        "displayName": "毒蛇DoSer",
                        "userId": "08540475497554539948"
                    },
                    "user_tz": -480
                },
                "id": "1d37cd01"
            },
            "outputs": [],
            "source": [
                "\n",
                "\n",
                "# ========== 0. 基本設定 ==========\n",
                "DATA_DIR   = Path(path) / \"BUSI_Corrected\"   # <-- 把 path 換成你的資料根目錄\n",
                "IMG_SIZE   = (256, 256)                      # ★ 改成 256 × 256\n",
                "BATCH_SIZE = 32\n",
                "AUTOTUNE   = tf.data.AUTOTUNE\n",
                "EPOCHS_TOP = 200   # 先訓練頂層\n",
                "\n",
                "# ========== 1. 蒐集檔名 (排除 _mask.png) & 分層切分 ==========\n",
                "class_names = sorted([p.name for p in DATA_DIR.iterdir() if p.is_dir()])\n",
                "\n",
                "filepaths, labels = [], []\n",
                "for cls_idx, cls_name in enumerate(class_names):\n",
                "    for img_path in (DATA_DIR / cls_name).glob(\"*.png\"):\n",
                "        if \"_mask\" in img_path.stem:          # ★ 排除 segmentation mask\n",
                "            continue\n",
                "        filepaths.append(str(img_path))\n",
                "        labels.append(cls_idx)\n",
                "\n",
                "filepaths, labels = np.array(filepaths), np.array(labels)\n",
                "\n",
                "train_idx, val_idx = train_test_split(\n",
                "    np.arange(len(labels)),\n",
                "    test_size=0.2,\n",
                "    stratify=labels,\n",
                "    random_state=42\n",
                ")\n",
                "\n",
                "train_paths, val_paths = filepaths[train_idx], filepaths[val_idx]\n",
                "train_labels, val_labels = labels[train_idx],  labels[val_idx]\n",
                "\n",
                "# ========== 2. tf.data pipeline ==========\n",
                "def load_and_prep(path, label):\n",
                "    img = tf.io.read_file(path)\n",
                "    img = tf.image.decode_png(img)          # BUSI 為灰階，但轉 3ch 便於載權重\n",
                "    img = tf.image.resize(img, IMG_SIZE)\n",
                "    img = preprocess_input(img)                         # ★ 用官方前處理\n",
                "    return img, label\n",
                "\n",
                "augmenter = tf.keras.Sequential([\n",
                "    layers.RandomFlip(\"horizontal\"),\n",
                "    layers.RandomRotation(0.2),\n",
                "    layers.RandomZoom(0.1),\n",
                "    layers.RandomContrast(0.2),\n",
                "    layers.RandomBrightness(0.1)\n",
                "])\n",
                "\n",
                "def make_dataset(paths, labels, training=False):\n",
                "    ds = tf.data.Dataset.from_tensor_slices((paths, labels))\n",
                "    if training:\n",
                "        ds = ds.shuffle(1000)\n",
                "    ds = ds.map(load_and_prep, num_parallel_calls=AUTOTUNE)\n",
                "    if training:\n",
                "        ds = ds.map(lambda x, y: (augmenter(x, training=True), y),\n",
                "                    num_parallel_calls=AUTOTUNE)\n",
                "    return ds.batch(BATCH_SIZE).prefetch(AUTOTUNE)\n",
                "\n",
                "train_ds = make_dataset(train_paths, train_labels, training=True)\n",
                "val_ds   = make_dataset(val_paths, val_labels, training=False)\n",
                "\n",
                "# ========== 3. 類別權重 ==========\n",
                "cw = class_weight.compute_class_weight(\n",
                "    class_weight=\"balanced\",\n",
                "    classes=np.unique(train_labels),\n",
                "    y=train_labels\n",
                ")\n",
                "class_weight_dict = dict(enumerate(cw))"
            ]
        },
        {
            "cell_type": "code",
            "execution_count": null,
            "id": "abffd9ee",
            "metadata": {
                "colab": {
                    "base_uri": "https://localhost:8080/"
                },
                "id": "abffd9ee",
                "outputId": "c3d44dd8-02b8-4a08-882e-19257177451c"
            },
            "outputs": [
                {
                    "name": "stdout",
                    "output_type": "stream",
                    "text": [
                        "Epoch 1/200\n",
                        "\u001b[1m 8/19\u001b[0m \u001b[32m━━━━━━━━\u001b[0m\u001b[37m━━━━━━━━━━━━\u001b[0m \u001b[1m29s\u001b[0m 3s/step - accuracy: 0.4334 - loss: 1.1738"
                    ]
                },
                {
                    "ename": "KeyboardInterrupt",
                    "evalue": "",
                    "output_type": "error",
                    "traceback": [
                        "\u001b[31m---------------------------------------------------------------------------\u001b[39m",
                        "\u001b[31mKeyboardInterrupt\u001b[39m                         Traceback (most recent call last)",
                        "\u001b[36mCell\u001b[39m\u001b[36m \u001b[39m\u001b[32mIn[19]\u001b[39m\u001b[32m, line 37\u001b[39m\n\u001b[32m     29\u001b[39m model.compile(\n\u001b[32m     30\u001b[39m     optimizer=keras.optimizers.Adam(\u001b[32m1e-5\u001b[39m),\n\u001b[32m     31\u001b[39m     loss=\u001b[33m\"\u001b[39m\u001b[33msparse_categorical_crossentropy\u001b[39m\u001b[33m\"\u001b[39m,\n\u001b[32m     32\u001b[39m     metrics=[\u001b[33m\"\u001b[39m\u001b[33maccuracy\u001b[39m\u001b[33m\"\u001b[39m]\n\u001b[32m     33\u001b[39m )\n\u001b[32m     35\u001b[39m \u001b[38;5;66;03m# ========== 5. 訓練頂層 ==========\u001b[39;00m\n\u001b[32m---> \u001b[39m\u001b[32m37\u001b[39m history_top = \u001b[43mmodel\u001b[49m\u001b[43m.\u001b[49m\u001b[43mfit\u001b[49m\u001b[43m(\u001b[49m\n\u001b[32m     38\u001b[39m \u001b[43m    \u001b[49m\u001b[43mtrain_ds\u001b[49m\u001b[43m,\u001b[49m\n\u001b[32m     39\u001b[39m \u001b[43m    \u001b[49m\u001b[43mvalidation_data\u001b[49m\u001b[43m=\u001b[49m\u001b[43mval_ds\u001b[49m\u001b[43m,\u001b[49m\n\u001b[32m     40\u001b[39m \u001b[43m    \u001b[49m\u001b[43mepochs\u001b[49m\u001b[43m=\u001b[49m\u001b[43mEPOCHS_TOP\u001b[49m\u001b[43m,\u001b[49m\n\u001b[32m     41\u001b[39m \u001b[43m    \u001b[49m\u001b[43mclass_weight\u001b[49m\u001b[43m=\u001b[49m\u001b[43mclass_weight_dict\u001b[49m\u001b[43m,\u001b[49m\n\u001b[32m     42\u001b[39m \u001b[43m    \u001b[49m\u001b[43mcallbacks\u001b[49m\u001b[43m=\u001b[49m\u001b[43m[\u001b[49m\n\u001b[32m     43\u001b[39m \u001b[43m        \u001b[49m\u001b[43mtf\u001b[49m\u001b[43m.\u001b[49m\u001b[43mkeras\u001b[49m\u001b[43m.\u001b[49m\u001b[43mcallbacks\u001b[49m\u001b[43m.\u001b[49m\u001b[43mEarlyStopping\u001b[49m\u001b[43m(\u001b[49m\n\u001b[32m     44\u001b[39m \u001b[43m            \u001b[49m\u001b[43mmonitor\u001b[49m\u001b[43m=\u001b[49m\u001b[33;43m\"\u001b[39;49m\u001b[33;43mval_loss\u001b[39;49m\u001b[33;43m\"\u001b[39;49m\u001b[43m,\u001b[49m\u001b[43m \u001b[49m\u001b[43mpatience\u001b[49m\u001b[43m=\u001b[49m\u001b[32;43m3\u001b[39;49m\u001b[43m,\u001b[49m\u001b[43m \u001b[49m\u001b[43mrestore_best_weights\u001b[49m\u001b[43m=\u001b[49m\u001b[38;5;28;43;01mTrue\u001b[39;49;00m\n\u001b[32m     45\u001b[39m \u001b[43m        \u001b[49m\u001b[43m)\u001b[49m\u001b[43m,\u001b[49m\n\u001b[32m     46\u001b[39m \u001b[43m        \u001b[49m\u001b[43mtf\u001b[49m\u001b[43m.\u001b[49m\u001b[43mkeras\u001b[49m\u001b[43m.\u001b[49m\u001b[43mcallbacks\u001b[49m\u001b[43m.\u001b[49m\u001b[43mReduceLROnPlateau\u001b[49m\u001b[43m(\u001b[49m\n\u001b[32m     47\u001b[39m \u001b[43m            \u001b[49m\u001b[43mmonitor\u001b[49m\u001b[43m=\u001b[49m\u001b[33;43m\"\u001b[39;49m\u001b[33;43mval_loss\u001b[39;49m\u001b[33;43m\"\u001b[39;49m\u001b[43m,\u001b[49m\u001b[43m \u001b[49m\u001b[43mfactor\u001b[49m\u001b[43m=\u001b[49m\u001b[32;43m0.3\u001b[39;49m\u001b[43m,\u001b[49m\u001b[43m \u001b[49m\u001b[43mpatience\u001b[49m\u001b[43m=\u001b[49m\u001b[32;43m2\u001b[39;49m\n\u001b[32m     48\u001b[39m \u001b[43m        \u001b[49m\u001b[43m)\u001b[49m\n\u001b[32m     49\u001b[39m \u001b[43m    \u001b[49m\u001b[43m]\u001b[49m\n\u001b[32m     50\u001b[39m \u001b[43m)\u001b[49m\n\u001b[32m     52\u001b[39m plot_history(history_top, \u001b[33mf\u001b[39m\u001b[33m\"\u001b[39m\u001b[33m(\u001b[39m\u001b[38;5;132;01m{\u001b[39;00mMODEL_NAME\u001b[38;5;132;01m}\u001b[39;00m\u001b[33m)\u001b[39m\u001b[33m\"\u001b[39m)\n",
                        "\u001b[36mFile \u001b[39m\u001b[32md:\\User\\毒蛇\\Documents\\GitHub\\The_Practice_of_Deep_Learning_Biomedical_Image_analysis_Final_Exam\\.venv\\Lib\\site-packages\\keras\\src\\utils\\traceback_utils.py:117\u001b[39m, in \u001b[36mfilter_traceback.<locals>.error_handler\u001b[39m\u001b[34m(*args, **kwargs)\u001b[39m\n\u001b[32m    115\u001b[39m filtered_tb = \u001b[38;5;28;01mNone\u001b[39;00m\n\u001b[32m    116\u001b[39m \u001b[38;5;28;01mtry\u001b[39;00m:\n\u001b[32m--> \u001b[39m\u001b[32m117\u001b[39m     \u001b[38;5;28;01mreturn\u001b[39;00m \u001b[43mfn\u001b[49m\u001b[43m(\u001b[49m\u001b[43m*\u001b[49m\u001b[43margs\u001b[49m\u001b[43m,\u001b[49m\u001b[43m \u001b[49m\u001b[43m*\u001b[49m\u001b[43m*\u001b[49m\u001b[43mkwargs\u001b[49m\u001b[43m)\u001b[49m\n\u001b[32m    118\u001b[39m \u001b[38;5;28;01mexcept\u001b[39;00m \u001b[38;5;167;01mException\u001b[39;00m \u001b[38;5;28;01mas\u001b[39;00m e:\n\u001b[32m    119\u001b[39m     filtered_tb = _process_traceback_frames(e.__traceback__)\n",
                        "\u001b[36mFile \u001b[39m\u001b[32md:\\User\\毒蛇\\Documents\\GitHub\\The_Practice_of_Deep_Learning_Biomedical_Image_analysis_Final_Exam\\.venv\\Lib\\site-packages\\keras\\src\\backend\\tensorflow\\trainer.py:377\u001b[39m, in \u001b[36mTensorFlowTrainer.fit\u001b[39m\u001b[34m(self, x, y, batch_size, epochs, verbose, callbacks, validation_split, validation_data, shuffle, class_weight, sample_weight, initial_epoch, steps_per_epoch, validation_steps, validation_batch_size, validation_freq)\u001b[39m\n\u001b[32m    375\u001b[39m \u001b[38;5;28;01mfor\u001b[39;00m step, iterator \u001b[38;5;129;01min\u001b[39;00m epoch_iterator:\n\u001b[32m    376\u001b[39m     callbacks.on_train_batch_begin(step)\n\u001b[32m--> \u001b[39m\u001b[32m377\u001b[39m     logs = \u001b[38;5;28;43mself\u001b[39;49m\u001b[43m.\u001b[49m\u001b[43mtrain_function\u001b[49m\u001b[43m(\u001b[49m\u001b[43miterator\u001b[49m\u001b[43m)\u001b[49m\n\u001b[32m    378\u001b[39m     callbacks.on_train_batch_end(step, logs)\n\u001b[32m    379\u001b[39m     \u001b[38;5;28;01mif\u001b[39;00m \u001b[38;5;28mself\u001b[39m.stop_training:\n",
                        "\u001b[36mFile \u001b[39m\u001b[32md:\\User\\毒蛇\\Documents\\GitHub\\The_Practice_of_Deep_Learning_Biomedical_Image_analysis_Final_Exam\\.venv\\Lib\\site-packages\\keras\\src\\backend\\tensorflow\\trainer.py:220\u001b[39m, in \u001b[36mTensorFlowTrainer._make_function.<locals>.function\u001b[39m\u001b[34m(iterator)\u001b[39m\n\u001b[32m    216\u001b[39m \u001b[38;5;28;01mdef\u001b[39;00m\u001b[38;5;250m \u001b[39m\u001b[34mfunction\u001b[39m(iterator):\n\u001b[32m    217\u001b[39m     \u001b[38;5;28;01mif\u001b[39;00m \u001b[38;5;28misinstance\u001b[39m(\n\u001b[32m    218\u001b[39m         iterator, (tf.data.Iterator, tf.distribute.DistributedIterator)\n\u001b[32m    219\u001b[39m     ):\n\u001b[32m--> \u001b[39m\u001b[32m220\u001b[39m         opt_outputs = \u001b[43mmulti_step_on_iterator\u001b[49m\u001b[43m(\u001b[49m\u001b[43miterator\u001b[49m\u001b[43m)\u001b[49m\n\u001b[32m    221\u001b[39m         \u001b[38;5;28;01mif\u001b[39;00m \u001b[38;5;129;01mnot\u001b[39;00m opt_outputs.has_value():\n\u001b[32m    222\u001b[39m             \u001b[38;5;28;01mraise\u001b[39;00m \u001b[38;5;167;01mStopIteration\u001b[39;00m\n",
                        "\u001b[36mFile \u001b[39m\u001b[32md:\\User\\毒蛇\\Documents\\GitHub\\The_Practice_of_Deep_Learning_Biomedical_Image_analysis_Final_Exam\\.venv\\Lib\\site-packages\\tensorflow\\python\\util\\traceback_utils.py:150\u001b[39m, in \u001b[36mfilter_traceback.<locals>.error_handler\u001b[39m\u001b[34m(*args, **kwargs)\u001b[39m\n\u001b[32m    148\u001b[39m filtered_tb = \u001b[38;5;28;01mNone\u001b[39;00m\n\u001b[32m    149\u001b[39m \u001b[38;5;28;01mtry\u001b[39;00m:\n\u001b[32m--> \u001b[39m\u001b[32m150\u001b[39m   \u001b[38;5;28;01mreturn\u001b[39;00m \u001b[43mfn\u001b[49m\u001b[43m(\u001b[49m\u001b[43m*\u001b[49m\u001b[43margs\u001b[49m\u001b[43m,\u001b[49m\u001b[43m \u001b[49m\u001b[43m*\u001b[49m\u001b[43m*\u001b[49m\u001b[43mkwargs\u001b[49m\u001b[43m)\u001b[49m\n\u001b[32m    151\u001b[39m \u001b[38;5;28;01mexcept\u001b[39;00m \u001b[38;5;167;01mException\u001b[39;00m \u001b[38;5;28;01mas\u001b[39;00m e:\n\u001b[32m    152\u001b[39m   filtered_tb = _process_traceback_frames(e.__traceback__)\n",
                        "\u001b[36mFile \u001b[39m\u001b[32md:\\User\\毒蛇\\Documents\\GitHub\\The_Practice_of_Deep_Learning_Biomedical_Image_analysis_Final_Exam\\.venv\\Lib\\site-packages\\tensorflow\\python\\eager\\polymorphic_function\\polymorphic_function.py:833\u001b[39m, in \u001b[36mFunction.__call__\u001b[39m\u001b[34m(self, *args, **kwds)\u001b[39m\n\u001b[32m    830\u001b[39m compiler = \u001b[33m\"\u001b[39m\u001b[33mxla\u001b[39m\u001b[33m\"\u001b[39m \u001b[38;5;28;01mif\u001b[39;00m \u001b[38;5;28mself\u001b[39m._jit_compile \u001b[38;5;28;01melse\u001b[39;00m \u001b[33m\"\u001b[39m\u001b[33mnonXla\u001b[39m\u001b[33m\"\u001b[39m\n\u001b[32m    832\u001b[39m \u001b[38;5;28;01mwith\u001b[39;00m OptionalXlaContext(\u001b[38;5;28mself\u001b[39m._jit_compile):\n\u001b[32m--> \u001b[39m\u001b[32m833\u001b[39m   result = \u001b[38;5;28;43mself\u001b[39;49m\u001b[43m.\u001b[49m\u001b[43m_call\u001b[49m\u001b[43m(\u001b[49m\u001b[43m*\u001b[49m\u001b[43margs\u001b[49m\u001b[43m,\u001b[49m\u001b[43m \u001b[49m\u001b[43m*\u001b[49m\u001b[43m*\u001b[49m\u001b[43mkwds\u001b[49m\u001b[43m)\u001b[49m\n\u001b[32m    835\u001b[39m new_tracing_count = \u001b[38;5;28mself\u001b[39m.experimental_get_tracing_count()\n\u001b[32m    836\u001b[39m without_tracing = (tracing_count == new_tracing_count)\n",
                        "\u001b[36mFile \u001b[39m\u001b[32md:\\User\\毒蛇\\Documents\\GitHub\\The_Practice_of_Deep_Learning_Biomedical_Image_analysis_Final_Exam\\.venv\\Lib\\site-packages\\tensorflow\\python\\eager\\polymorphic_function\\polymorphic_function.py:878\u001b[39m, in \u001b[36mFunction._call\u001b[39m\u001b[34m(self, *args, **kwds)\u001b[39m\n\u001b[32m    875\u001b[39m \u001b[38;5;28mself\u001b[39m._lock.release()\n\u001b[32m    876\u001b[39m \u001b[38;5;66;03m# In this case we have not created variables on the first call. So we can\u001b[39;00m\n\u001b[32m    877\u001b[39m \u001b[38;5;66;03m# run the first trace but we should fail if variables are created.\u001b[39;00m\n\u001b[32m--> \u001b[39m\u001b[32m878\u001b[39m results = \u001b[43mtracing_compilation\u001b[49m\u001b[43m.\u001b[49m\u001b[43mcall_function\u001b[49m\u001b[43m(\u001b[49m\n\u001b[32m    879\u001b[39m \u001b[43m    \u001b[49m\u001b[43margs\u001b[49m\u001b[43m,\u001b[49m\u001b[43m \u001b[49m\u001b[43mkwds\u001b[49m\u001b[43m,\u001b[49m\u001b[43m \u001b[49m\u001b[38;5;28;43mself\u001b[39;49m\u001b[43m.\u001b[49m\u001b[43m_variable_creation_config\u001b[49m\n\u001b[32m    880\u001b[39m \u001b[43m\u001b[49m\u001b[43m)\u001b[49m\n\u001b[32m    881\u001b[39m \u001b[38;5;28;01mif\u001b[39;00m \u001b[38;5;28mself\u001b[39m._created_variables:\n\u001b[32m    882\u001b[39m   \u001b[38;5;28;01mraise\u001b[39;00m \u001b[38;5;167;01mValueError\u001b[39;00m(\u001b[33m\"\u001b[39m\u001b[33mCreating variables on a non-first call to a function\u001b[39m\u001b[33m\"\u001b[39m\n\u001b[32m    883\u001b[39m                    \u001b[33m\"\u001b[39m\u001b[33m decorated with tf.function.\u001b[39m\u001b[33m\"\u001b[39m)\n",
                        "\u001b[36mFile \u001b[39m\u001b[32md:\\User\\毒蛇\\Documents\\GitHub\\The_Practice_of_Deep_Learning_Biomedical_Image_analysis_Final_Exam\\.venv\\Lib\\site-packages\\tensorflow\\python\\eager\\polymorphic_function\\tracing_compilation.py:139\u001b[39m, in \u001b[36mcall_function\u001b[39m\u001b[34m(args, kwargs, tracing_options)\u001b[39m\n\u001b[32m    137\u001b[39m bound_args = function.function_type.bind(*args, **kwargs)\n\u001b[32m    138\u001b[39m flat_inputs = function.function_type.unpack_inputs(bound_args)\n\u001b[32m--> \u001b[39m\u001b[32m139\u001b[39m \u001b[38;5;28;01mreturn\u001b[39;00m \u001b[43mfunction\u001b[49m\u001b[43m.\u001b[49m\u001b[43m_call_flat\u001b[49m\u001b[43m(\u001b[49m\u001b[43m  \u001b[49m\u001b[38;5;66;43;03m# pylint: disable=protected-access\u001b[39;49;00m\n\u001b[32m    140\u001b[39m \u001b[43m    \u001b[49m\u001b[43mflat_inputs\u001b[49m\u001b[43m,\u001b[49m\u001b[43m \u001b[49m\u001b[43mcaptured_inputs\u001b[49m\u001b[43m=\u001b[49m\u001b[43mfunction\u001b[49m\u001b[43m.\u001b[49m\u001b[43mcaptured_inputs\u001b[49m\n\u001b[32m    141\u001b[39m \u001b[43m\u001b[49m\u001b[43m)\u001b[49m\n",
                        "\u001b[36mFile \u001b[39m\u001b[32md:\\User\\毒蛇\\Documents\\GitHub\\The_Practice_of_Deep_Learning_Biomedical_Image_analysis_Final_Exam\\.venv\\Lib\\site-packages\\tensorflow\\python\\eager\\polymorphic_function\\concrete_function.py:1322\u001b[39m, in \u001b[36mConcreteFunction._call_flat\u001b[39m\u001b[34m(self, tensor_inputs, captured_inputs)\u001b[39m\n\u001b[32m   1318\u001b[39m possible_gradient_type = gradients_util.PossibleTapeGradientTypes(args)\n\u001b[32m   1319\u001b[39m \u001b[38;5;28;01mif\u001b[39;00m (possible_gradient_type == gradients_util.POSSIBLE_GRADIENT_TYPES_NONE\n\u001b[32m   1320\u001b[39m     \u001b[38;5;129;01mand\u001b[39;00m executing_eagerly):\n\u001b[32m   1321\u001b[39m   \u001b[38;5;66;03m# No tape is watching; skip to running the function.\u001b[39;00m\n\u001b[32m-> \u001b[39m\u001b[32m1322\u001b[39m   \u001b[38;5;28;01mreturn\u001b[39;00m \u001b[38;5;28;43mself\u001b[39;49m\u001b[43m.\u001b[49m\u001b[43m_inference_function\u001b[49m\u001b[43m.\u001b[49m\u001b[43mcall_preflattened\u001b[49m\u001b[43m(\u001b[49m\u001b[43margs\u001b[49m\u001b[43m)\u001b[49m\n\u001b[32m   1323\u001b[39m forward_backward = \u001b[38;5;28mself\u001b[39m._select_forward_and_backward_functions(\n\u001b[32m   1324\u001b[39m     args,\n\u001b[32m   1325\u001b[39m     possible_gradient_type,\n\u001b[32m   1326\u001b[39m     executing_eagerly)\n\u001b[32m   1327\u001b[39m forward_function, args_with_tangents = forward_backward.forward()\n",
                        "\u001b[36mFile \u001b[39m\u001b[32md:\\User\\毒蛇\\Documents\\GitHub\\The_Practice_of_Deep_Learning_Biomedical_Image_analysis_Final_Exam\\.venv\\Lib\\site-packages\\tensorflow\\python\\eager\\polymorphic_function\\atomic_function.py:216\u001b[39m, in \u001b[36mAtomicFunction.call_preflattened\u001b[39m\u001b[34m(self, args)\u001b[39m\n\u001b[32m    214\u001b[39m \u001b[38;5;28;01mdef\u001b[39;00m\u001b[38;5;250m \u001b[39m\u001b[34mcall_preflattened\u001b[39m(\u001b[38;5;28mself\u001b[39m, args: Sequence[core.Tensor]) -> Any:\n\u001b[32m    215\u001b[39m \u001b[38;5;250m  \u001b[39m\u001b[33;03m\"\"\"Calls with flattened tensor inputs and returns the structured output.\"\"\"\u001b[39;00m\n\u001b[32m--> \u001b[39m\u001b[32m216\u001b[39m   flat_outputs = \u001b[38;5;28;43mself\u001b[39;49m\u001b[43m.\u001b[49m\u001b[43mcall_flat\u001b[49m\u001b[43m(\u001b[49m\u001b[43m*\u001b[49m\u001b[43margs\u001b[49m\u001b[43m)\u001b[49m\n\u001b[32m    217\u001b[39m   \u001b[38;5;28;01mreturn\u001b[39;00m \u001b[38;5;28mself\u001b[39m.function_type.pack_output(flat_outputs)\n",
                        "\u001b[36mFile \u001b[39m\u001b[32md:\\User\\毒蛇\\Documents\\GitHub\\The_Practice_of_Deep_Learning_Biomedical_Image_analysis_Final_Exam\\.venv\\Lib\\site-packages\\tensorflow\\python\\eager\\polymorphic_function\\atomic_function.py:251\u001b[39m, in \u001b[36mAtomicFunction.call_flat\u001b[39m\u001b[34m(self, *args)\u001b[39m\n\u001b[32m    249\u001b[39m \u001b[38;5;28;01mwith\u001b[39;00m record.stop_recording():\n\u001b[32m    250\u001b[39m   \u001b[38;5;28;01mif\u001b[39;00m \u001b[38;5;28mself\u001b[39m._bound_context.executing_eagerly():\n\u001b[32m--> \u001b[39m\u001b[32m251\u001b[39m     outputs = \u001b[38;5;28;43mself\u001b[39;49m\u001b[43m.\u001b[49m\u001b[43m_bound_context\u001b[49m\u001b[43m.\u001b[49m\u001b[43mcall_function\u001b[49m\u001b[43m(\u001b[49m\n\u001b[32m    252\u001b[39m \u001b[43m        \u001b[49m\u001b[38;5;28;43mself\u001b[39;49m\u001b[43m.\u001b[49m\u001b[43mname\u001b[49m\u001b[43m,\u001b[49m\n\u001b[32m    253\u001b[39m \u001b[43m        \u001b[49m\u001b[38;5;28;43mlist\u001b[39;49m\u001b[43m(\u001b[49m\u001b[43margs\u001b[49m\u001b[43m)\u001b[49m\u001b[43m,\u001b[49m\n\u001b[32m    254\u001b[39m \u001b[43m        \u001b[49m\u001b[38;5;28;43mlen\u001b[39;49m\u001b[43m(\u001b[49m\u001b[38;5;28;43mself\u001b[39;49m\u001b[43m.\u001b[49m\u001b[43mfunction_type\u001b[49m\u001b[43m.\u001b[49m\u001b[43mflat_outputs\u001b[49m\u001b[43m)\u001b[49m\u001b[43m,\u001b[49m\n\u001b[32m    255\u001b[39m \u001b[43m    \u001b[49m\u001b[43m)\u001b[49m\n\u001b[32m    256\u001b[39m   \u001b[38;5;28;01melse\u001b[39;00m:\n\u001b[32m    257\u001b[39m     outputs = make_call_op_in_graph(\n\u001b[32m    258\u001b[39m         \u001b[38;5;28mself\u001b[39m,\n\u001b[32m    259\u001b[39m         \u001b[38;5;28mlist\u001b[39m(args),\n\u001b[32m    260\u001b[39m         \u001b[38;5;28mself\u001b[39m._bound_context.function_call_options.as_attrs(),\n\u001b[32m    261\u001b[39m     )\n",
                        "\u001b[36mFile \u001b[39m\u001b[32md:\\User\\毒蛇\\Documents\\GitHub\\The_Practice_of_Deep_Learning_Biomedical_Image_analysis_Final_Exam\\.venv\\Lib\\site-packages\\tensorflow\\python\\eager\\context.py:1688\u001b[39m, in \u001b[36mContext.call_function\u001b[39m\u001b[34m(self, name, tensor_inputs, num_outputs)\u001b[39m\n\u001b[32m   1686\u001b[39m cancellation_context = cancellation.context()\n\u001b[32m   1687\u001b[39m \u001b[38;5;28;01mif\u001b[39;00m cancellation_context \u001b[38;5;129;01mis\u001b[39;00m \u001b[38;5;28;01mNone\u001b[39;00m:\n\u001b[32m-> \u001b[39m\u001b[32m1688\u001b[39m   outputs = \u001b[43mexecute\u001b[49m\u001b[43m.\u001b[49m\u001b[43mexecute\u001b[49m\u001b[43m(\u001b[49m\n\u001b[32m   1689\u001b[39m \u001b[43m      \u001b[49m\u001b[43mname\u001b[49m\u001b[43m.\u001b[49m\u001b[43mdecode\u001b[49m\u001b[43m(\u001b[49m\u001b[33;43m\"\u001b[39;49m\u001b[33;43mutf-8\u001b[39;49m\u001b[33;43m\"\u001b[39;49m\u001b[43m)\u001b[49m\u001b[43m,\u001b[49m\n\u001b[32m   1690\u001b[39m \u001b[43m      \u001b[49m\u001b[43mnum_outputs\u001b[49m\u001b[43m=\u001b[49m\u001b[43mnum_outputs\u001b[49m\u001b[43m,\u001b[49m\n\u001b[32m   1691\u001b[39m \u001b[43m      \u001b[49m\u001b[43minputs\u001b[49m\u001b[43m=\u001b[49m\u001b[43mtensor_inputs\u001b[49m\u001b[43m,\u001b[49m\n\u001b[32m   1692\u001b[39m \u001b[43m      \u001b[49m\u001b[43mattrs\u001b[49m\u001b[43m=\u001b[49m\u001b[43mattrs\u001b[49m\u001b[43m,\u001b[49m\n\u001b[32m   1693\u001b[39m \u001b[43m      \u001b[49m\u001b[43mctx\u001b[49m\u001b[43m=\u001b[49m\u001b[38;5;28;43mself\u001b[39;49m\u001b[43m,\u001b[49m\n\u001b[32m   1694\u001b[39m \u001b[43m  \u001b[49m\u001b[43m)\u001b[49m\n\u001b[32m   1695\u001b[39m \u001b[38;5;28;01melse\u001b[39;00m:\n\u001b[32m   1696\u001b[39m   outputs = execute.execute_with_cancellation(\n\u001b[32m   1697\u001b[39m       name.decode(\u001b[33m\"\u001b[39m\u001b[33mutf-8\u001b[39m\u001b[33m\"\u001b[39m),\n\u001b[32m   1698\u001b[39m       num_outputs=num_outputs,\n\u001b[32m   (...)\u001b[39m\u001b[32m   1702\u001b[39m       cancellation_manager=cancellation_context,\n\u001b[32m   1703\u001b[39m   )\n",
                        "\u001b[36mFile \u001b[39m\u001b[32md:\\User\\毒蛇\\Documents\\GitHub\\The_Practice_of_Deep_Learning_Biomedical_Image_analysis_Final_Exam\\.venv\\Lib\\site-packages\\tensorflow\\python\\eager\\execute.py:53\u001b[39m, in \u001b[36mquick_execute\u001b[39m\u001b[34m(op_name, num_outputs, inputs, attrs, ctx, name)\u001b[39m\n\u001b[32m     51\u001b[39m \u001b[38;5;28;01mtry\u001b[39;00m:\n\u001b[32m     52\u001b[39m   ctx.ensure_initialized()\n\u001b[32m---> \u001b[39m\u001b[32m53\u001b[39m   tensors = \u001b[43mpywrap_tfe\u001b[49m\u001b[43m.\u001b[49m\u001b[43mTFE_Py_Execute\u001b[49m\u001b[43m(\u001b[49m\u001b[43mctx\u001b[49m\u001b[43m.\u001b[49m\u001b[43m_handle\u001b[49m\u001b[43m,\u001b[49m\u001b[43m \u001b[49m\u001b[43mdevice_name\u001b[49m\u001b[43m,\u001b[49m\u001b[43m \u001b[49m\u001b[43mop_name\u001b[49m\u001b[43m,\u001b[49m\n\u001b[32m     54\u001b[39m \u001b[43m                                      \u001b[49m\u001b[43minputs\u001b[49m\u001b[43m,\u001b[49m\u001b[43m \u001b[49m\u001b[43mattrs\u001b[49m\u001b[43m,\u001b[49m\u001b[43m \u001b[49m\u001b[43mnum_outputs\u001b[49m\u001b[43m)\u001b[49m\n\u001b[32m     55\u001b[39m \u001b[38;5;28;01mexcept\u001b[39;00m core._NotOkStatusException \u001b[38;5;28;01mas\u001b[39;00m e:\n\u001b[32m     56\u001b[39m   \u001b[38;5;28;01mif\u001b[39;00m name \u001b[38;5;129;01mis\u001b[39;00m \u001b[38;5;129;01mnot\u001b[39;00m \u001b[38;5;28;01mNone\u001b[39;00m:\n",
                        "\u001b[31mKeyboardInterrupt\u001b[39m: "
                    ]
                }
            ],
            "source": [
                "# ========== 4. 建立模型（動態模型） ==========\n",
                "\n",
                "import tensorflow as tf\n",
                "from tensorflow import keras\n",
                "from keras import layers\n",
                "import numpy as np\n",
                "from pathlib import Path\n",
                "import matplotlib.pyplot as plt\n",
                "\n",
                "# 假設前面已經執行：\n",
                "# ModelClass, preprocess_input = get_model_and_preprocess(MODEL_NAME)\n",
                "\n",
                "# 1) 用 ModelClass 來建 base model\n",
                "base = ModelClass(\n",
                "    include_top=False,\n",
                "    input_shape=IMG_SIZE + (3,),\n",
                "    weights=\"imagenet\"\n",
                ")\n",
                "base.trainable = True  # 如果要凍結就設 False，這裡先示範開訓練頂層所以留 True\n",
                "\n",
                "# 2) 定義整體模型架構\n",
                "inputs = keras.Input(shape=IMG_SIZE + (3,))\n",
                "x = base(inputs, training=False)\n",
                "x = layers.GlobalAveragePooling2D()(x)\n",
                "x = layers.Dropout(0.3)(x)\n",
                "outputs = layers.Dense(len(class_names), activation=\"softmax\")(x)\n",
                "\n",
                "model = keras.Model(inputs, outputs)\n",
                "model.compile(\n",
                "    optimizer=keras.optimizers.Adam(1e-5),\n",
                "    loss=\"sparse_categorical_crossentropy\",\n",
                "    metrics=[\"accuracy\"]\n",
                ")\n",
                "\n",
                "# ========== 5. 訓練頂層 ==========\n",
                "\n",
                "history_top = model.fit(\n",
                "    train_ds,\n",
                "    validation_data=val_ds,\n",
                "    epochs=EPOCHS_TOP,\n",
                "    class_weight=class_weight_dict,\n",
                "    callbacks=[\n",
                "        tf.keras.callbacks.EarlyStopping(\n",
                "            monitor=\"val_loss\", patience=3, restore_best_weights=True\n",
                "        ),\n",
                "        tf.keras.callbacks.ReduceLROnPlateau(\n",
                "            monitor=\"val_loss\", factor=0.3, patience=2\n",
                "        )\n",
                "    ]\n",
                ")\n",
                "\n",
                "plot_history(history_top, f\"({MODEL_NAME})\")\n"
            ]
        },
        {
            "cell_type": "code",
            "execution_count": null,
            "id": "570efb3d",
            "metadata": {
                "id": "570efb3d"
            },
            "outputs": [],
            "source": [
                "# --- ResNet50 模型訓練 ---\n",
                "from tensorflow.keras.applications import ResNet50\n",
                "from tensorflow.keras.applications.resnet import preprocess_input as resnet_preprocess\n",
                "from tensorflow.keras.models import Model\n",
                "from tensorflow.keras.layers import GlobalAveragePooling2D, Dense, Input\n",
                "\n",
                "# 使用 ResNet50，不包含頂層分類器\n",
                "base_model = ResNet50(weights=\"imagenet\", include_top=False, input_tensor=Input(shape=IMG_SIZE + (3,)))\n",
                "base_model.trainable = False  # 先凍結特徵提取層\n",
                "\n",
                "# 加上分類頭\n",
                "x = base_model.output\n",
                "x = GlobalAveragePooling2D()(x)\n",
                "output = Dense(len(class_names), activation=\"softmax\")(x)\n",
                "model_resnet = Model(inputs=base_model.input, outputs=output)\n",
                "\n",
                "# 編譯模型\n",
                "model_resnet.compile(optimizer=\"adam\", loss=\"sparse_categorical_crossentropy\", metrics=[\"accuracy\"])\n",
                "\n",
                "# 資料前處理（根據 ResNet 要求）\n",
                "train_ds_resnet = train_ds.map(lambda x, y: (resnet_preprocess(x), y))\n",
                "val_ds_resnet = val_ds.map(lambda x, y: (resnet_preprocess(x), y))\n",
                "\n",
                "# 訓練模型\n",
                "history_resnet = model_resnet.fit(\n",
                "    train_ds_resnet,\n",
                "    validation_data=val_ds_resnet,\n",
                "    epochs=EPOCHS_TOP,\n",
                "    callbacks=[\n",
                "        tf.keras.callbacks.EarlyStopping(\n",
                "            monitor=\"val_loss\", patience=3, restore_best_weights=True\n",
                "        ),\n",
                "        tf.keras.callbacks.ReduceLROnPlateau(\n",
                "            monitor=\"val_loss\", factor=0.3, patience=2\n",
                "        )\n",
                "    ]\n",
                ")\n",
                "\n",
                "plot_history(history_resnet, title_suffix=\"(ResNet50)\")\n"
            ]
        },
        {
            "cell_type": "code",
            "execution_count": null,
            "id": "6f0f6a0f",
            "metadata": {
                "id": "6f0f6a0f"
            },
            "outputs": [],
            "source": [
                "# --- DenseNet121 模型訓練 ---\n",
                "from tensorflow.keras.applications import DenseNet121\n",
                "from tensorflow.keras.applications.densenet import preprocess_input as densenet_preprocess\n",
                "\n",
                "# 使用 DenseNet121，不包含頂層分類器\n",
                "base_model = DenseNet121(weights=\"imagenet\", include_top=False, input_tensor=Input(shape=IMG_SIZE + (3,)))\n",
                "base_model.trainable = False\n",
                "\n",
                "# 加上分類頭\n",
                "x = base_model.output\n",
                "x = GlobalAveragePooling2D()(x)\n",
                "output = Dense(len(class_names), activation=\"softmax\")(x)\n",
                "model_densenet = Model(inputs=base_model.input, outputs=output)\n",
                "\n",
                "# 編譯模型\n",
                "model_densenet.compile(optimizer=\"adam\", loss=\"sparse_categorical_crossentropy\", metrics=[\"accuracy\"])\n",
                "\n",
                "# 資料前處理（根據 DenseNet 要求）\n",
                "train_ds_dense = train_ds.map(lambda x, y: (densenet_preprocess(x), y))\n",
                "val_ds_dense = val_ds.map(lambda x, y: (densenet_preprocess(x), y))\n",
                "\n",
                "# 訓練模型\n",
                "history_densenet = model_densenet.fit(\n",
                "    train_ds_dense,\n",
                "    validation_data=val_ds_dense,\n",
                "    epochs=EPOCHS_TOP,\n",
                "    callbacks=[\n",
                "        tf.keras.callbacks.EarlyStopping(\n",
                "            monitor=\"val_loss\", patience=3, restore_best_weights=True\n",
                "        ),\n",
                "        tf.keras.callbacks.ReduceLROnPlateau(\n",
                "            monitor=\"val_loss\", factor=0.3, patience=2\n",
                "        )\n",
                "    ]\n",
                ")\n",
                "\n",
                "plot_history(history_densenet, title_suffix=\"(DenseNet121)\")"
            ]
        }
    ],
    "metadata": {
        "accelerator": "GPU",
        "colab": {
            "gpuType": "T4",
            "provenance": []
        },
        "kernelspec": {
            "display_name": ".venv",
            "language": "python",
            "name": "python3"
        },
        "language_info": {
            "codemirror_mode": {
                "name": "ipython",
                "version": 3
            },
            "file_extension": ".py",
            "mimetype": "text/x-python",
            "name": "python",
            "nbconvert_exporter": "python",
            "pygments_lexer": "ipython3",
            "version": "3.12.9"
        }
    },
    "nbformat": 4,
    "nbformat_minor": 5
}
